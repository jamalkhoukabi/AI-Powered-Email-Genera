from langchain_groq import ChatGroq


llm = ChatGroq(
    temperature=0, 
    groq_api_key='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', 
    model_name="llama-3.1-70b-versatile"
)
response = llm.invoke("The first person to rule morocco  by Alawi dynasty...")
print(response.content)


pip install langchain_community


from langchain_community.document_loaders import WebBaseLoader

loader = WebBaseLoader("https://jobs.nike.com/fr/job/R-45775?from=job%20search%20funnel")
page_data = loader.load().pop().page_content
print(page_data)


from langchain_core.prompts import PromptTemplate
from langchain_core.output_parsers import JsonOutputParser
prompt_extract = PromptTemplate.from_template(
        """
        ### SCRAPED TEXT FROM WEBSITE:
        {page_data}
        ### INSTRUCTION:
        The scraped text is from the career's page of a website.
        Your job is to extract the job postings and return them in JSON format containing the 
        following keys: `role`, `experience`, `skills` and `description`.
        Only return the valid JSON.
        ### VALID JSON (NO PREAMBLE):    
        """
)

chain_extract = prompt_extract | llm 
res = chain_extract.invoke(input={'page_data':page_data})



json_parser = JsonOutputParser()
json_res = json_parser.parse(res.content)
json_res


import pandas as pd

df = pd.read_csv("my_portfolio.csv")
df





pip install chromadb


import uuid
import chromadb

client = chromadb.PersistentClient('vectorstore')
collection = client.get_or_create_collection(name="portfolio")

if not collection.count():
    for _, row in df.iterrows():
        collection.add(documents=row["Techstack"],
                       metadatas={"links": row["Links"]},
                       ids=[str(uuid.uuid4())])


job = json_res
job['skills']


job


links = collection.query(query_texts=job['skills'], n_results=2).get('metadatas', [])
links


prompt_email = PromptTemplate.from_template(
        """
        ### JOB DESCRIPTION:
        {job_description}
        
        ### INSTRUCTION:
        You are Jamal, a business development executive at MarrakechiQ. MarrakechiQ is an AI & Software Consulting Agency dedicated to facilitating
        the seamless integration of business processes through automated tools. 
        Over our experience, we have empowered numerous enterprises with tailored solutions, fostering scalability, 
        process optimization, cost reduction, and heightened overall efficiency. 
        Your job is to write a cold email to the client regarding the job mentioned above describing the capability of MarrakechiQ
        in fulfilling their needs.
        Also add the most relevant ones from the following links to showcase MarrakechiQ's portfolio: {link_list}
        Remember you are Jamal, BDE at MarrakechiQ. 
        Do not provide a preamble.
        ### EMAIL (NO PREAMBLE):
        
        """
        )

chain_email = prompt_email | llm
res = chain_email.invoke({"job_description": str(job), "link_list": links})
print(res.content)






